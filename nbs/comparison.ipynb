{
 "cells": [
  {
   "attachments": {},
   "cell_type": "markdown",
   "metadata": {},
   "source": [
    "# Analysis between Datasets"
   ]
  },
  {
   "attachments": {},
   "cell_type": "markdown",
   "metadata": {},
   "source": [
    "### Import Libraries"
   ]
  },
  {
   "cell_type": "code",
   "execution_count": null,
   "metadata": {},
   "outputs": [],
   "source": [
    "import umap \n",
    "import umap.plot\n",
    "\n",
    "import pandas as pd\n",
    "import numpy as np\n",
    "import matplotlib.pyplot as plt\n",
    "import seaborn as sns\n",
    "\n",
    "np.random.seed(0)"
   ]
  },
  {
   "attachments": {},
   "cell_type": "markdown",
   "metadata": {},
   "source": [
    "### Load Data"
   ]
  },
  {
   "cell_type": "code",
   "execution_count": null,
   "metadata": {},
   "outputs": [],
   "source": [
    "df_males_2d_single = pd.read_pickle('comparison-data/2d-single/df.pkl')\n",
    "df_males_2d_single_far = pd.read_pickle('comparison-data/2d-single-far/df.pkl')\n",
    "df_males_2d_stereo = pd.read_pickle('comparison-data/2d-stereo/df.pkl')\n",
    "df_males_3d = pd.read_pickle('comparison-data/3d/df.pkl')"
   ]
  },
  {
   "cell_type": "code",
   "execution_count": null,
   "metadata": {},
   "outputs": [],
   "source": [
    "columns = list(set(df_males_2d_single.columns.values) & set(df_males_3d.columns.values) & set(df_males_2d_stereo.columns.values) & set(df_males_2d_single_far.columns.values))\n",
    "\n",
    "for col in columns:\n",
    "    if ('Persistence' in col) or ('Turning' in col):\n",
    "        columns.remove(col)\n",
    "\n",
    "all_data = pd.concat([df_males_3d[columns], df_males_2d_single[columns], df_males_2d_stereo[columns], df_males_2d_single_far[columns]])\n",
    "all_data['type'] = ['3D Dataset' for i in range(len(df_males_3d))] + ['2D Single Camera at 2m' for i in range(len(df_males_2d_single))] + ['2D Telecentric' for i in range(len(df_males_2d_stereo))] + ['2D Single Camera at 7m' for i in range(len(df_males_2d_single_far))]"
   ]
  },
  {
   "attachments": {},
   "cell_type": "markdown",
   "metadata": {},
   "source": [
    "### UMAP"
   ]
  },
  {
   "cell_type": "code",
   "execution_count": null,
   "metadata": {},
   "outputs": [],
   "source": [
    "mapper = umap.UMAP().fit(all_data.drop(columns=['type', 'seq', 'track_group']))\n",
    "plt.figure(dpi=400)\n",
    "umap.plot.points(mapper, labels=all_data['type'].values, theme='fire')\n",
    "plt.show()"
   ]
  },
  {
   "cell_type": "code",
   "execution_count": null,
   "metadata": {},
   "outputs": [],
   "source": [
    "fig, ax = plt.subplots(dpi=300, figsize=(10, 10))\n",
    "plot_obj = umap.plot.points(mapper, labels=all_data['type'].values, show_legend=True, ax=ax)\n",
    "ax.set_title('UMAP Visualisation of Datasets')\n",
    "plt.show()"
   ]
  },
  {
   "attachments": {},
   "cell_type": "markdown",
   "metadata": {},
   "source": [
    "### Correlation"
   ]
  },
  {
   "cell_type": "code",
   "execution_count": null,
   "metadata": {},
   "outputs": [],
   "source": [
    "df_2d_single_vs_3d = df_males_2d_single[columns].corrwith(df_males_3d[columns])\n",
    "df_2d_stereo_vs_3d = df_males_2d_stereo[columns].corrwith(df_males_3d[columns])\n",
    "df_2d_stereo_vs_2d_single = df_males_2d_stereo[columns].corrwith(df_males_2d_single[columns])\n",
    "df_2d_single_vs_far = df_males_2d_single[columns].corrwith(df_males_2d_single_far[columns])\n",
    "df_3d_vs_far = df_males_3d[columns].corrwith(df_males_2d_single_far[columns])\n",
    "df_2d_stereo_vs_far = df_males_2d_stereo[columns].corrwith(df_males_2d_single_far[columns])"
   ]
  },
  {
   "cell_type": "code",
   "execution_count": null,
   "metadata": {},
   "outputs": [],
   "source": [
    "df_2d_single_vs_3d.to_excel('correlations1.xlsx')\n",
    "df_2d_stereo_vs_3d.to_excel('correlations2.xlsx')\n",
    "df_2d_stereo_vs_2d_single.to_excel('correlations3.xlsx')\n",
    "df_2d_single_vs_far.to_excel('correlations4.xlsx')\n",
    "df_3d_vs_far.to_excel('correlations5.xlsx')\n",
    "df_2d_stereo_vs_far.to_excel('correlations6.xlsx')"
   ]
  },
  {
   "cell_type": "code",
   "execution_count": null,
   "metadata": {},
   "outputs": [],
   "source": [
    "df_2d_single_vs_3d = df_2d_single_vs_3d.mean()\n",
    "df_2d_stereo_vs_3d = df_2d_stereo_vs_3d.mean()\n",
    "df_2d_stereo_vs_2d_single = df_2d_stereo_vs_2d_single.mean()\n",
    "df_2d_single_vs_far = df_2d_single_vs_far.mean()\n",
    "df_3d_vs_far = df_3d_vs_far.mean()\n",
    "df_2d_stereo_vs_far = df_2d_stereo_vs_far.mean()"
   ]
  },
  {
   "cell_type": "code",
   "execution_count": null,
   "metadata": {},
   "outputs": [],
   "source": [
    "# Define the correlation values\n",
    "correlation_matrix = np.array([[1, df_2d_stereo_vs_3d, df_2d_single_vs_3d, df_3d_vs_far],\n",
    "                              [df_2d_stereo_vs_3d, 1,df_2d_stereo_vs_2d_single,df_2d_stereo_vs_far],\n",
    "                              [df_2d_single_vs_3d, df_2d_stereo_vs_2d_single, 1, df_2d_single_vs_far],\n",
    "                              [df_3d_vs_far, df_2d_stereo_vs_far, df_2d_single_vs_far, 1]])\n",
    "\n",
    "datasets = ['3D Dataset', '2D Telecentric Dataset', '2D Single Camera (at 2m)', '2D Single Camera (at 7m)']\n",
    "\n",
    "corr_df = pd.DataFrame(correlation_matrix, columns=datasets, index=datasets)\n",
    "#df_lt = corr_df.where(np.tril(np.ones(corr_df.shape)).astype(bool))\n",
    "#mask = np.triu(np.ones(corr_df.shape)).astype(bool)\n",
    "mask=None\n",
    "\n",
    "plt.figure(dpi=300)\n",
    "hmap=sns.heatmap(corr_df, mask=mask, cmap='flare', annot=True)\n",
    "plt.title('Correlation between Datasets')\n",
    "plt.show()\n"
   ]
  },
  {
   "attachments": {},
   "cell_type": "markdown",
   "metadata": {},
   "source": [
    "### Feature Histograms"
   ]
  },
  {
   "cell_type": "code",
   "execution_count": null,
   "metadata": {},
   "outputs": [],
   "source": [
    "import numpy as np\n",
    "import matplotlib.pyplot as plt"
   ]
  },
  {
   "cell_type": "code",
   "execution_count": null,
   "metadata": {},
   "outputs": [],
   "source": [
    "male_2d_stereo = np.load('2d-stereo-data/males.npy', allow_pickle=True)\n",
    "couple_2d_stereo = np.load('2d-stereo-data/couple.npy', allow_pickle=True)\n",
    "female_2d_stereo = np.load('2d-stereo-data/females.npy', allow_pickle=True)\n",
    "focal_male_2d_stereo = np.load('2d-stereo-data/focal-males.npy', allow_pickle=True)\n",
    "\n",
    "male_2d_single = np.load('2d-single-data/males.npy', allow_pickle=True)\n",
    "couple_2d_single = np.load('2d-single-data/couples.npy', allow_pickle=True)\n",
    "female_2d_single = np.load('2d-single-data/females.npy', allow_pickle=True)\n",
    "focal_male_2d_single = np.load('2d-single-data/focal-males.npy', allow_pickle=True)"
   ]
  },
  {
   "cell_type": "code",
   "execution_count": null,
   "metadata": {},
   "outputs": [],
   "source": [
    "def get_features(dataset, feature):\n",
    "    data = []\n",
    "    for trial in dataset:\n",
    "        for group in trial:\n",
    "            for track in group:\n",
    "                data += track[:, feature].tolist()\n",
    "\n",
    "    data = list(filter(lambda x: not np.isnan(x), data))\n",
    "    return data\n",
    "\n",
    "\n",
    "def create_histogram(male_feature, couple_feature, female_feature, focal_male_feature, title):\n",
    "    bins=np.histogram(np.hstack((male_feature, couple_feature )), bins=40)[1] #get the bin edges\n",
    "    fig = plt.figure(figsize=(15,8))\n",
    "    fig.set_dpi(200)\n",
    "    plt.hist(male_feature, density=True, bins=bins, alpha=0.5)\n",
    "    plt.hist(couple_feature, density=True, bins=bins, alpha=0.5)\n",
    "    #plt.hist(female_feature, density=True, bins=bins)\n",
    "   #plt.hist(focal_male_feature, density=True, bins=bins)\n",
    "    fig.legend(['male', 'couple', 'female', 'focal-male'])\n",
    "    plt.xlabel('Feature Value')\n",
    "    plt.ylabel('Frequency')\n",
    "    plt.title(title)\n",
    "    plt.show()\n",
    "\n",
    "feature_columns = [\n",
    "    'Y Coord',\n",
    "    'Z Coord',\n",
    "    'Y Velocity',\n",
    "    'Z Velocity',\n",
    "    'Angular Velocity Y-Z',\n",
    "    'Angular Acceleration Y-Z',\n",
    "    'Angle of Flight', \n",
    "    'Centroid Distance Function',\n",
    "    'Persistence Velocity',\n",
    "    'Turning Velocity',\n",
    "    'Radial Velocity',\n",
    "    'Radial Acceleration',\n",
    "    'Radial Jerk',\n",
    "    'Y Acceleration',\n",
    "    'Z Acceleration'\n",
    "] \n",
    "\n",
    "for feature in range(len(male_2d_single[0][0][0][0])):\n",
    "    create_histogram(\n",
    "        get_features(male_2d_stereo, feature),\n",
    "        get_features(couple_2d_stereo, feature),\n",
    "        get_features(female_2d_stereo, feature),\n",
    "        get_features(focal_male_2d_stereo, feature),\n",
    "        title=f'2D Stereo: {feature_columns[feature]}'\n",
    "    )\n",
    "    create_histogram(\n",
    "        get_features(male_2d_single, feature),\n",
    "        get_features(couple_2d_single, feature),\n",
    "        get_features(female_2d_single, feature),\n",
    "        get_features(focal_male_2d_single, feature),\n",
    "        title=f'2D Single: {feature_columns[feature]}'\n",
    "    )"
   ]
  },
  {
   "cell_type": "code",
   "execution_count": null,
   "metadata": {},
   "outputs": [],
   "source": [
    "### Feature Comparisons"
   ]
  },
  {
   "cell_type": "code",
   "execution_count": null,
   "metadata": {},
   "outputs": [],
   "source": [
    "import numpy as np\n",
    "\n",
    "path = '../results/2d stereo model performance/'\n",
    "data_2d_stereo = np.load(path + 'shap_train.npy', allow_pickle=True)[0].columns\n",
    "\n",
    "path = '../results/2d single model performance/'\n",
    "data_2d_single = np.load(path + 'shap_train.npy', allow_pickle=True)[0].columns\n",
    "\n",
    "path = '../results/2d single far model performance/'\n",
    "data_2d_single_far = np.load(path + 'shap_train.npy', allow_pickle=True)[0].columns\n"
   ]
  },
  {
   "cell_type": "code",
   "execution_count": null,
   "metadata": {},
   "outputs": [],
   "source": [
    "print('Number of features\\n2D Stereo: ',len(data_2d_stereo), '\\n2D Single: ',len(data_2d_single), '\\n2D single far: ',len(data_2d_single_far))"
   ]
  },
  {
   "cell_type": "code",
   "execution_count": null,
   "metadata": {},
   "outputs": [],
   "source": [
    "# Same features\n",
    "\n",
    "same = set(list(data_2d_stereo)) & set(list(data_2d_single)) & set(list(data_2d_single_far))\n",
    "print('Number of similar features across all: ', len(same))\n",
    "\n",
    "same = set(list(data_2d_stereo)) & set(list(data_2d_single))\n",
    "print('Number of similar features across 2D stereo vs 2D single: ', len(same))\n",
    "\n",
    "same = set(list(data_2d_stereo)) & set(list(data_2d_single_far))\n",
    "print('Number of similar features across 2D stereo vs 2D single far: ', len(same))\n",
    "\n",
    "same = set(list(data_2d_single)) & set(list(data_2d_single_far))\n",
    "print('Number of similar features across 2D single vs 2D single far: ', len(same))"
   ]
  },
  {
   "cell_type": "code",
   "execution_count": null,
   "metadata": {},
   "outputs": [],
   "source": [
    "from collections import Counter\n",
    "\n",
    "def feature_review(dataset):\n",
    "    feature_names = []\n",
    "    feature_types = []\n",
    "    for f in dataset:\n",
    "        name_split = f.split('(')\n",
    "        feature_names.append(name_split[0])\n",
    "        if len(name_split) != 1:\n",
    "            feature_types.append(name_split[1][:-1])\n",
    "    print(Counter(feature_names))\n",
    "    print(Counter(feature_types))\n",
    "    return feature_names, feature_types\n",
    "\n",
    "print('-- 2D STEREO --')\n",
    "fname_2d_stereo, ftype_2d_stereo = feature_review(data_2d_stereo)\n",
    "\n",
    "print('\\n-- 2D SINGLE --')\n",
    "fname_2d_single, ftype_2d_single = feature_review(data_2d_single)\n",
    "\n",
    "print('\\n-- 2D SINGLE FAR --')\n",
    "fname_2d_single_far, ftype_2d_single_far = feature_review(data_2d_single_far)"
   ]
  },
  {
   "cell_type": "code",
   "execution_count": null,
   "metadata": {},
   "outputs": [],
   "source": [
    "print('-- Percentage of Feature Similarity --')\n",
    "\n",
    "same = set(list(data_2d_stereo)) & set(list(data_2d_single))\n",
    "print('2D stereo vs 2D single: ',len(same)/len(data_2d_stereo))\n",
    "\n",
    "same = set(list(data_2d_stereo)) & set(list(data_2d_single_far))\n",
    "print('2D stereo vs 2D single far: ',len(same)/len(data_2d_stereo))\n",
    "\n",
    "same = set(list(data_2d_single)) & set(list(data_2d_single_far))\n",
    "print('2D single vs 2D single far: ',len(same)/len(data_2d_single_far))"
   ]
  },
  {
   "cell_type": "code",
   "execution_count": null,
   "metadata": {},
   "outputs": [],
   "source": [
    "print('-- Percentage of Feature Similarity --')\n",
    "\n",
    "same = set(list(fname_2d_stereo)) & set(list(fname_2d_single))\n",
    "print('2D stereo vs 2D single: ',len(same)/len(set(list(fname_2d_stereo))))\n",
    "\n",
    "same = set(list(ftype_2d_stereo)) & set(list(ftype_2d_single))\n",
    "print('2D stereo vs 2D single: ',len(same)/len(set(list(ftype_2d_stereo))))"
   ]
  },
  {
   "cell_type": "code",
   "execution_count": null,
   "metadata": {},
   "outputs": [],
   "source": [
    "print('-- Percentage of Feature Similarity --')\n",
    "\n",
    "same = set(list(fname_2d_stereo)) & set(list(fname_2d_single_far))\n",
    "print('2D stereo vs 2D single: ',len(same)/len(set(list(fname_2d_stereo))))\n",
    "\n",
    "same = set(list(ftype_2d_stereo)) & set(list(ftype_2d_single_far))\n",
    "print('2D stereo vs 2D single: ',len(same)/len(set(list(ftype_2d_stereo))))"
   ]
  },
  {
   "cell_type": "code",
   "execution_count": null,
   "metadata": {},
   "outputs": [],
   "source": [
    "same = list(set(list(fname_2d_stereo)) & set(list(fname_2d_single)))\n",
    "names = list(set(list(fname_2d_stereo)))\n",
    "for s in same:\n",
    "    names.remove(s)\n",
    "print(names)"
   ]
  },
  {
   "cell_type": "code",
   "execution_count": null,
   "metadata": {},
   "outputs": [],
   "source": [
    "same = list(set(list(fname_2d_stereo)) & set(list(fname_2d_single_far)))\n",
    "names = list(set(list(fname_2d_stereo)))\n",
    "for s in same:\n",
    "    names.remove(s)\n",
    "print(names)"
   ]
  },
  {
   "cell_type": "code",
   "execution_count": null,
   "metadata": {},
   "outputs": [],
   "source": [
    "same = list(set(list(fname_2d_single)) & set(list(fname_2d_single_far)))\n",
    "names = list(set(list(fname_2d_single_far)))\n",
    "for s in same:\n",
    "    names.remove(s)\n",
    "print(names)"
   ]
  },
  {
   "cell_type": "code",
   "execution_count": null,
   "metadata": {},
   "outputs": [],
   "source": [
    "for i in sorted(data_2d_single_far):\n",
    "    try:\n",
    "        print(i.split('(')[1][:-1])\n",
    "    except:\n",
    "        print('')"
   ]
  },
  {
   "cell_type": "code",
   "execution_count": null,
   "metadata": {},
   "outputs": [],
   "source": []
  }
 ],
 "metadata": {
  "kernelspec": {
   "display_name": "venv",
   "language": "python",
   "name": "python3"
  },
  "language_info": {
   "codemirror_mode": {
    "name": "ipython",
    "version": 3
   },
   "file_extension": ".py",
   "mimetype": "text/x-python",
   "name": "python",
   "nbconvert_exporter": "python",
   "pygments_lexer": "ipython3",
   "version": "3.8.8"
  },
  "orig_nbformat": 4,
  "vscode": {
   "interpreter": {
    "hash": "5e6009248ca75395473ca76edc19a0019aca43388e5c3a8b77691fe23eac4a86"
   }
  }
 },
 "nbformat": 4,
 "nbformat_minor": 2
}
