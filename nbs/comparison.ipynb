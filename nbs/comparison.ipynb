{
 "cells": [
  {
   "attachments": {},
   "cell_type": "markdown",
   "metadata": {},
   "source": [
    "# Analysis between Datasets"
   ]
  },
  {
   "attachments": {},
   "cell_type": "markdown",
   "metadata": {},
   "source": [
    "### Import Libraries"
   ]
  },
  {
   "cell_type": "code",
   "execution_count": null,
   "metadata": {},
   "outputs": [],
   "source": [
    "import umap \n",
    "import umap.plot\n",
    "\n",
    "import pandas as pd\n",
    "import numpy as np\n",
    "import seaborn as sns\n",
    "\n",
    "import matplotlib.pyplot as plt\n",
    "\n",
    "import joblib\n",
    "\n",
    "np.random.seed(0)"
   ]
  },
  {
   "attachments": {},
   "cell_type": "markdown",
   "metadata": {},
   "source": [
    "### Load Data"
   ]
  },
  {
   "cell_type": "code",
   "execution_count": null,
   "metadata": {},
   "outputs": [],
   "source": [
    "df_males_2d_single = pd.read_pickle('E:/2d-anomaly/FILTER/2m/df.pkl')\n",
    "df_males_2d_single_far = pd.read_pickle('E:/2d-anomaly/FILTER/15m/df.pkl')\n",
    "df_males_2d_stereo = pd.read_pickle('E:/2d-anomaly/FILTER/telecentric/df.pkl')\n",
    "df_males_3d = pd.read_pickle('E:/2d-anomaly/FILTER/3D/df.pkl')"
   ]
  },
  {
   "cell_type": "code",
   "execution_count": null,
   "metadata": {},
   "outputs": [],
   "source": [
    "columns = list(set(df_males_2d_single.columns.values) & set(df_males_3d.columns.values) & set(df_males_2d_stereo.columns.values) & set(df_males_2d_single_far.columns.values))\n",
    "\n",
    "for col in columns:\n",
    "    if ('Persistence' in col) or ('Turning' in col):\n",
    "        columns.remove(col)\n",
    "\n",
    "all_data = pd.concat([df_males_3d[columns], df_males_2d_single[columns], df_males_2d_stereo[columns], df_males_2d_single_far[columns]])\n",
    "all_data['type'] = ['3D Dataset' for i in range(len(df_males_3d))] + ['2D Single Camera at 2m' for i in range(len(df_males_2d_single))] + ['2D Telecentric' for i in range(len(df_males_2d_stereo))] + ['2D Single Camera at 15m' for i in range(len(df_males_2d_single_far))]"
   ]
  },
  {
   "attachments": {},
   "cell_type": "markdown",
   "metadata": {},
   "source": [
    "### UMAP"
   ]
  },
  {
   "cell_type": "code",
   "execution_count": null,
   "metadata": {},
   "outputs": [],
   "source": [
    "mapper = umap.UMAP().fit(all_data.drop(columns=['type', 'seq', 'track_group']))\n",
    "plt.figure(dpi=600)\n",
    "umap.plot.points(mapper, labels=all_data['type'].values)\n",
    "plt.show()"
   ]
  },
  {
   "cell_type": "code",
   "execution_count": null,
   "metadata": {},
   "outputs": [],
   "source": [
    "fig, ax = plt.subplots(dpi=600, figsize=(10, 10))\n",
    "plot_obj = umap.plot.points(mapper, labels=all_data['type'].values, show_legend=True, ax=ax)\n",
    "#ax.set_title('UMAP Visualisation of Datasets')\n",
    "plt.show()"
   ]
  },
  {
   "cell_type": "code",
   "execution_count": null,
   "metadata": {},
   "outputs": [],
   "source": [
    "params = {'legend.fontsize': 15,\n",
    "          'legend.handlelength': 2}\n",
    "plt.rcParams.update(params)\n",
    "\n",
    "fig, ax = plt.subplots(dpi=600, figsize=(10, 10))\n",
    "plot_obj = umap.plot.points(mapper, labels=all_data['type'].values, show_legend=True, ax=ax)\n",
    "#ax.set_title('UMAP Visualisation of Datasets')\n",
    "#plt.legend(prop={'size': 6})\n",
    "plt.show()"
   ]
  },
  {
   "attachments": {},
   "cell_type": "markdown",
   "metadata": {},
   "source": [
    "### Correlation"
   ]
  },
  {
   "cell_type": "code",
   "execution_count": null,
   "metadata": {},
   "outputs": [],
   "source": [
    "# 'Y-Z' , 'X-Y', 'X-Z'\n",
    "orientation = 'Y-Z'\n",
    "\n",
    "# 20, 30, 40, 50\n",
    "segment = 50\n",
    "overlap = int(segment/2)\n",
    "\n",
    "\n",
    "path = 'E:/2d-anomaly/dfs-corr/'\n",
    "df_male = joblib.load(path + f'df_male_{segment}_{overlap}.dat')\n",
    "df_couple = joblib.load(path + f'df_couples_{segment}_{overlap}.dat')\n",
    "df_female = joblib.load(path + f'df_females_{segment}_{overlap}.dat')\n",
    "df_focal_male = joblib.load(path + f'df_focal_males_{segment}_{overlap}.dat')\n",
    "results_3d = pd.concat([df_male, df_couple, df_female, df_focal_male])\n",
    "\n",
    "path = 'E:/2d-anomaly/dfs-corr-2d/'\n",
    "df_male = joblib.load(path + f'df_male_single camera_{orientation}_{segment}_{overlap}_None.dat')\n",
    "df_couple = joblib.load(path + f'df_couples_single camera_{orientation}_{segment}_{overlap}_None.dat')\n",
    "df_female = joblib.load(path + f'df_females_single camera_{orientation}_{segment}_{overlap}_None.dat')\n",
    "df_focal_male = joblib.load(path + f'df_focal_males_single camera_{orientation}_{segment}_{overlap}_None.dat')\n",
    "results_2m = pd.concat([df_male, df_couple, df_female, df_focal_male])\n",
    "\n",
    "dist = 3000\n",
    "df_male = joblib.load(path + f'df_male_single camera_{orientation}_{segment}_{overlap}_{dist}.dat')\n",
    "df_couple = joblib.load(path + f'df_couples_single camera_{orientation}_{segment}_{overlap}_{dist}.dat')\n",
    "df_female = joblib.load(path + f'df_females_single camera_{orientation}_{segment}_{overlap}_{dist}.dat')\n",
    "df_focal_male = joblib.load(path + f'df_focal_males_single camera_{orientation}_{segment}_{overlap}_{dist}.dat')\n",
    "results_3m = pd.concat([df_male, df_couple, df_female, df_focal_male])\n",
    "\n",
    "dist = 4000\n",
    "df_male = joblib.load(path + f'df_male_single camera_{orientation}_{segment}_{overlap}_{dist}.dat')\n",
    "df_couple = joblib.load(path + f'df_couples_single camera_{orientation}_{segment}_{overlap}_{dist}.dat')\n",
    "df_female = joblib.load(path + f'df_females_single camera_{orientation}_{segment}_{overlap}_{dist}.dat')\n",
    "df_focal_male = joblib.load(path + f'df_focal_males_single camera_{orientation}_{segment}_{overlap}_{dist}.dat')\n",
    "results_4m = pd.concat([df_male, df_couple, df_female, df_focal_male])\n",
    "\n",
    "dist = 5000\n",
    "df_male = joblib.load(path + f'df_male_single camera_{orientation}_{segment}_{overlap}_{dist}.dat')\n",
    "df_couple = joblib.load(path + f'df_couples_single camera_{orientation}_{segment}_{overlap}_{dist}.dat')\n",
    "df_female = joblib.load(path + f'df_females_single camera_{orientation}_{segment}_{overlap}_{dist}.dat')\n",
    "df_focal_male = joblib.load(path + f'df_focal_males_single camera_{orientation}_{segment}_{overlap}_{dist}.dat')\n",
    "results_5m = pd.concat([df_male, df_couple, df_female, df_focal_male])\n",
    "\n",
    "dist = 9000\n",
    "df_male = joblib.load(path + f'df_male_single camera_{orientation}_{segment}_{overlap}_{dist}.dat')\n",
    "df_couple = joblib.load(path + f'df_couples_single camera_{orientation}_{segment}_{overlap}_{dist}.dat')\n",
    "df_female = joblib.load(path + f'df_females_single camera_{orientation}_{segment}_{overlap}_{dist}.dat')\n",
    "df_focal_male = joblib.load(path + f'df_focal_males_single camera_{orientation}_{segment}_{overlap}_{dist}.dat')\n",
    "results_9m = pd.concat([df_male, df_couple, df_female, df_focal_male])\n",
    "\n",
    "dist = 15000\n",
    "df_male = joblib.load(path + f'df_male_single camera_{orientation}_{segment}_{overlap}_{dist}.dat')\n",
    "df_couple = joblib.load(path + f'df_couples_single camera_{orientation}_{segment}_{overlap}_{dist}.dat')\n",
    "df_female = joblib.load(path + f'df_females_single camera_{orientation}_{segment}_{overlap}_{dist}.dat')\n",
    "df_focal_male = joblib.load(path + f'df_focal_males_single camera_{orientation}_{segment}_{overlap}_{dist}.dat')\n",
    "results_15m = pd.concat([df_male, df_couple, df_female, df_focal_male])\n",
    "\n",
    "dist = None\n",
    "df_male = joblib.load(path + f'df_male_stereo_{orientation}_{segment}_{overlap}_{dist}.dat')\n",
    "df_couple = joblib.load(path + f'df_couples_stereo_{orientation}_{segment}_{overlap}_{dist}.dat')\n",
    "df_female = joblib.load(path + f'df_females_stereo_{orientation}_{segment}_{overlap}_{dist}.dat')\n",
    "df_focal_male = joblib.load(path + f'df_focal_males_stereo_{orientation}_{segment}_{overlap}_{dist}.dat')\n",
    "results_tele = pd.concat([df_male, df_couple, df_female, df_focal_male])"
   ]
  },
  {
   "cell_type": "code",
   "execution_count": null,
   "metadata": {},
   "outputs": [],
   "source": [
    "dataframes = [results_3d, results_2m, results_3m, results_4m, results_5m, results_9m, results_15m, results_tele]\n",
    "\n",
    "common_columns = set(dataframes[0].columns)\n",
    "for df in dataframes[1:]:\n",
    "    common_columns.intersection_update(df.columns)\n",
    "\n",
    "common_columns = [col for col in common_columns if 'Persistence' not in col and 'Turning' not in col and 'seq' not in col and 'track_group' not in col]\n",
    "\n",
    "all_data = pd.concat([\n",
    "    df[common_columns].assign(type=name) for df, name in zip(\n",
    "        dataframes,\n",
    "        ['3D Dataset', '2D Single Camera at 2m', '2D Single Camera at 3m', '2D Single Camera at 4m',\n",
    "         '2D Single Camera at 5m', '2D Single Camera at 9m', '2D Single Camera at 15m', '2D Telecentric']\n",
    "    )\n",
    "], ignore_index=True)\n",
    "\n",
    "correlations = {}\n",
    "datasets = [results_3d, results_2m, results_3m, results_4m, results_5m, results_9m, results_15m, results_tele]\n",
    "dataset_names = ['3D', '2M', '3M', '4M', '5M', '9M', '15M', 'Tele']\n",
    "\n",
    "for i, df1 in enumerate(datasets):\n",
    "    for j, df2 in enumerate(datasets):\n",
    "        if i < j:\n",
    "            key = (dataset_names[i], dataset_names[j])\n",
    "            corr = df1[columns].corrwith(df2[columns])\n",
    "            correlations[key] = np.abs(corr).mean()\n",
    "\n",
    "corr_matrix = np.ones((len(datasets), len(datasets)))\n",
    "\n",
    "for i, name1 in enumerate(dataset_names):\n",
    "    for j, name2 in enumerate(dataset_names):\n",
    "        if i < j:\n",
    "            corr_value = correlations[(name1, name2)]\n",
    "            corr_matrix[i, j] = corr_matrix[j, i] = corr_value\n",
    "\n",
    "corr_df = pd.DataFrame(corr_matrix, columns=dataset_names, index=dataset_names)\n",
    "\n",
    "# Plotting\n",
    "plt.figure(dpi=600)\n",
    "sns.heatmap(corr_df, cmap='flare', annot=True)\n",
    "plt.title(f'Correlation between Datasets - {orientation} - segment: {segment}, overlap: {overlap}')\n",
    "plt.show()\n"
   ]
  },
  {
   "cell_type": "code",
   "execution_count": null,
   "metadata": {},
   "outputs": [],
   "source": [
    "dataframes = [results_3d, results_2m, results_5m, results_9m, results_15m, results_tele]\n",
    "\n",
    "common_columns = set(dataframes[0].columns)\n",
    "for df in dataframes[1:]:\n",
    "    common_columns.intersection_update(df.columns)\n",
    "\n",
    "common_columns = [col for col in common_columns if 'Persistence' not in col and 'Turning' not in col and 'seq' not in col and 'track_group' not in col]\n",
    "\n",
    "all_data = pd.concat([\n",
    "    df[common_columns].assign(type=name) for df, name in zip(\n",
    "        dataframes,\n",
    "        ['3D Dataset', '2D Single Camera at 2m', \n",
    "         '2D Single Camera at 5m', '2D Single Camera at 9m', '2D Single Camera at 15m', '2D Telecentric']\n",
    "    )\n",
    "], ignore_index=True)\n",
    "\n",
    "correlations = {}\n",
    "datasets = [results_3d, results_2m, results_5m, results_9m, results_15m, results_tele]\n",
    "dataset_names = [\n",
    "    '3D Dataset', \n",
    "    '2D Single Camera at 2m', \n",
    "    '2D Single Camera at 5m', \n",
    "    '2D Single Camera at 9m', \n",
    "    '2D Single Camera at 15m', \n",
    "    '2D Telecentric'\n",
    "]\n",
    "\n",
    "for i, df1 in enumerate(datasets):\n",
    "    for j, df2 in enumerate(datasets):\n",
    "        if i < j:\n",
    "            key = (dataset_names[i], dataset_names[j])\n",
    "            corr = df1[columns].corrwith(df2[columns])\n",
    "            correlations[key] = np.abs(corr).mean()\n",
    "\n",
    "\n",
    "corr_matrix = np.ones((len(datasets), len(datasets))) \n",
    "\n",
    "\n",
    "for i, name1 in enumerate(dataset_names):\n",
    "    for j, name2 in enumerate(dataset_names):\n",
    "        if i < j:\n",
    "            corr_value = correlations[(name1, name2)]\n",
    "            corr_matrix[i, j] = corr_matrix[j, i] = corr_value\n",
    "\n",
    "corr_df = pd.DataFrame(corr_matrix, columns=dataset_names, index=dataset_names)\n",
    "\n",
    "plt.figure(dpi=600)\n",
    "sns.heatmap(corr_df, cmap='flare', annot=True)\n",
    "#plt.title(f'Correlation between Datasets - {orientation} - segment: {segment}, overlap: {overlap}')\n",
    "plt.show()\n"
   ]
  },
  {
   "cell_type": "markdown",
   "metadata": {},
   "source": [
    "### Feature Comparisons"
   ]
  },
  {
   "cell_type": "code",
   "execution_count": null,
   "metadata": {},
   "outputs": [],
   "source": [
    "path = 'E:/2d-anomaly/FILTER/3d/'\n",
    "data_3d = np.load(path + 'shap_train.npy', allow_pickle=True)[0].columns\n",
    "\n",
    "path = 'E:/2d-anomaly/FILTER/telecentric/'\n",
    "data_2d_stereo = np.load(path + 'shap_train.npy', allow_pickle=True)[0].columns\n",
    "\n",
    "path = 'E:/2d-anomaly/FILTER/2m/'\n",
    "data_2d_single = np.load(path + 'shap_train.npy', allow_pickle=True)[0].columns\n",
    "\n",
    "path = 'E:/2d-anomaly/FILTER/15m/'\n",
    "data_2d_single_far = np.load(path + 'shap_train.npy', allow_pickle=True)[0].columns\n"
   ]
  },
  {
   "cell_type": "code",
   "execution_count": null,
   "metadata": {},
   "outputs": [],
   "source": [
    "print(\n",
    "    'Number of features\\n2D Stereo: ',\n",
    "    len(data_2d_stereo), \n",
    "    '\\n2D Single: ',\n",
    "    len(data_2d_single), \n",
    "    '\\n2D single far: ',\n",
    "    len(data_2d_single_far),\n",
    "    '\\n3D: ',\n",
    "    len(data_3d)\n",
    ")"
   ]
  },
  {
   "cell_type": "code",
   "execution_count": null,
   "metadata": {},
   "outputs": [],
   "source": [
    "# Same features\n",
    "\n",
    "same = set(list(data_2d_stereo)) & set(list(data_2d_single)) & set(list(data_2d_single_far))\n",
    "print('Number of similar features across all: ', len(same))\n",
    "\n",
    "same = set(list(data_2d_stereo)) & set(list(data_2d_single))\n",
    "print('Number of similar features across 2D stereo vs 2D single: ', len(same))\n",
    "\n",
    "same = set(list(data_2d_stereo)) & set(list(data_2d_single_far))\n",
    "print('Number of similar features across 2D stereo vs 2D single far: ', len(same))\n",
    "\n",
    "same = set(list(data_2d_single)) & set(list(data_2d_single_far))\n",
    "print('Number of similar features across 2D single vs 2D single far: ', len(same))"
   ]
  },
  {
   "cell_type": "code",
   "execution_count": null,
   "metadata": {},
   "outputs": [],
   "source": [
    "from collections import Counter\n",
    "\n",
    "def feature_review(dataset):\n",
    "    feature_names = []\n",
    "    feature_types = []\n",
    "    for f in dataset:\n",
    "        name_split = f.split('(')\n",
    "        feature_names.append(name_split[0])\n",
    "        if len(name_split) != 1:\n",
    "            feature_types.append(name_split[1][:-1])\n",
    "    print(Counter(feature_names))\n",
    "    print(Counter(feature_types))\n",
    "    return feature_names, feature_types\n",
    "\n",
    "print('-- 2D STEREO --')\n",
    "fname_2d_stereo, ftype_2d_stereo = feature_review(data_2d_stereo)\n",
    "\n",
    "print('\\n-- 2D SINGLE --')\n",
    "fname_2d_single, ftype_2d_single = feature_review(data_2d_single)\n",
    "\n",
    "print('\\n-- 2D SINGLE FAR --')\n",
    "fname_2d_single_far, ftype_2d_single_far = feature_review(data_2d_single_far)"
   ]
  },
  {
   "cell_type": "code",
   "execution_count": null,
   "metadata": {},
   "outputs": [],
   "source": [
    "print('-- Percentage of Feature Similarity --')\n",
    "\n",
    "same = set(list(data_2d_stereo)) & set(list(data_2d_single))\n",
    "print('2D stereo vs 2D single: ',len(same)/len(data_2d_stereo))\n",
    "\n",
    "same = set(list(data_2d_stereo)) & set(list(data_2d_single_far))\n",
    "print('2D stereo vs 2D single far: ',len(same)/len(data_2d_stereo))\n",
    "\n",
    "same = set(list(data_2d_single)) & set(list(data_2d_single_far))\n",
    "print('2D single vs 2D single far: ',len(same)/len(data_2d_single_far))"
   ]
  },
  {
   "cell_type": "code",
   "execution_count": null,
   "metadata": {},
   "outputs": [],
   "source": [
    "print('-- Percentage of Feature Similarity --')\n",
    "\n",
    "same = set(list(fname_2d_stereo)) & set(list(fname_2d_single))\n",
    "print('2D stereo vs 2D single: ',len(same)/len(set(list(fname_2d_stereo))))\n",
    "\n",
    "same = set(list(ftype_2d_stereo)) & set(list(ftype_2d_single))\n",
    "print('2D stereo vs 2D single: ',len(same)/len(set(list(ftype_2d_stereo))))"
   ]
  },
  {
   "cell_type": "code",
   "execution_count": null,
   "metadata": {},
   "outputs": [],
   "source": [
    "print('-- Percentage of Feature Similarity --')\n",
    "\n",
    "same = set(list(fname_2d_stereo)) & set(list(fname_2d_single_far))\n",
    "print('2D stereo vs 2D single: ',len(same)/len(set(list(fname_2d_stereo))))\n",
    "\n",
    "same = set(list(ftype_2d_stereo)) & set(list(ftype_2d_single_far))\n",
    "print('2D stereo vs 2D single: ',len(same)/len(set(list(ftype_2d_stereo))))"
   ]
  },
  {
   "cell_type": "code",
   "execution_count": null,
   "metadata": {},
   "outputs": [],
   "source": [
    "same = list(set(list(fname_2d_stereo)) & set(list(fname_2d_single)))\n",
    "names = list(set(list(fname_2d_stereo)))\n",
    "for s in same:\n",
    "    names.remove(s)\n",
    "print(names)"
   ]
  },
  {
   "cell_type": "code",
   "execution_count": null,
   "metadata": {},
   "outputs": [],
   "source": [
    "same = list(set(list(fname_2d_stereo)) & set(list(fname_2d_single_far)))\n",
    "names = list(set(list(fname_2d_stereo)))\n",
    "for s in same:\n",
    "    names.remove(s)\n",
    "print(names)"
   ]
  },
  {
   "cell_type": "code",
   "execution_count": null,
   "metadata": {},
   "outputs": [],
   "source": [
    "same = list(set(list(fname_2d_single)) & set(list(fname_2d_single_far)))\n",
    "names = list(set(list(fname_2d_single_far)))\n",
    "for s in same:\n",
    "    names.remove(s)\n",
    "print(names)"
   ]
  },
  {
   "cell_type": "code",
   "execution_count": null,
   "metadata": {},
   "outputs": [],
   "source": [
    "for i in sorted(data_2d_single_far):\n",
    "    try:\n",
    "        print(i.split('(')[1][:-1])\n",
    "    except:\n",
    "        print('')"
   ]
  },
  {
   "cell_type": "code",
   "execution_count": null,
   "metadata": {},
   "outputs": [],
   "source": []
  }
 ],
 "metadata": {
  "kernelspec": {
   "display_name": "venv",
   "language": "python",
   "name": "python3"
  },
  "language_info": {
   "codemirror_mode": {
    "name": "ipython",
    "version": 3
   },
   "file_extension": ".py",
   "mimetype": "text/x-python",
   "name": "python",
   "nbconvert_exporter": "python",
   "pygments_lexer": "ipython3",
   "version": "3.8.8"
  },
  "orig_nbformat": 4,
  "vscode": {
   "interpreter": {
    "hash": "5e6009248ca75395473ca76edc19a0019aca43388e5c3a8b77691fe23eac4a86"
   }
  }
 },
 "nbformat": 4,
 "nbformat_minor": 2
}
