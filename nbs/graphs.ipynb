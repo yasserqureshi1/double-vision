{
 "cells": [
  {
   "attachments": {},
   "cell_type": "markdown",
   "metadata": {},
   "source": [
    "# Graphs"
   ]
  },
  {
   "attachments": {},
   "cell_type": "markdown",
   "metadata": {},
   "source": [
    "### Import Libraries"
   ]
  },
  {
   "cell_type": "code",
   "execution_count": null,
   "metadata": {},
   "outputs": [],
   "source": [
    "import numpy as np\n",
    "import matplotlib.pyplot as plt\n",
    "import mpl_toolkits.mplot3d.axes3d as p3"
   ]
  },
  {
   "attachments": {},
   "cell_type": "markdown",
   "metadata": {},
   "source": [
    "### Plot 3D tracks"
   ]
  },
  {
   "cell_type": "code",
   "execution_count": null,
   "metadata": {},
   "outputs": [],
   "source": [
    "# Load 3D data\n",
    "path = 'H:/Documents/PhD/mosquito-swarms/2d-anomaly-detection/results/3d/'\n",
    "males = np.load(path + 'tracks_males.npy', allow_pickle=True)\n",
    "couples = np.load(path + 'tracks_couples.npy', allow_pickle=True)\n",
    "females = np.load(path + 'tracks_females.npy', allow_pickle=True)\n",
    "focal_males = np.load(path + 'tracks_focal_males.npy', allow_pickle=True)"
   ]
  },
  {
   "cell_type": "code",
   "execution_count": null,
   "metadata": {},
   "outputs": [],
   "source": [
    "def plot_trial(trial, save_path=None):\n",
    "    fig = plt.figure(dpi=300, figsize=(12,8))\n",
    "    ax = fig.add_subplot(projection='3d')\n",
    "\n",
    "    for track in trial:\n",
    "        ax.plot(track[:,0], track[:,1], track[:,2])\n",
    "\n",
    "    ax.set_xlabel('X (mm)')\n",
    "    ax.set_ylabel('Y (mm)')\n",
    "    ax.set_zlabel('Z (mm)')\n",
    "    ax.set_title('3D Dataset Trial')\n",
    "    plt.tight_layout()\n",
    "    if save_path:\n",
    "        plt.savefig(save_path)\n",
    "        plt.close()\n",
    "    else:\n",
    "        plt.show()"
   ]
  },
  {
   "cell_type": "code",
   "execution_count": null,
   "metadata": {},
   "outputs": [],
   "source": [
    "path = 'H:/Documents/PhD/mosquito-swarms/2d-anomaly-detection/results/3d/imgs/'\n",
    "for index, male in enumerate(males):\n",
    "    plot_trial(male, save_path=path+f'male-{index}.png')"
   ]
  },
  {
   "cell_type": "code",
   "execution_count": null,
   "metadata": {},
   "outputs": [],
   "source": [
    "path = 'H:/Documents/PhD/mosquito-swarms/2d-anomaly-detection/results/3d/imgs/'\n",
    "for index, couple in enumerate(couples):\n",
    "    plot_trial(couple, save_path=path+f'couple-{index}.png')"
   ]
  },
  {
   "cell_type": "code",
   "execution_count": null,
   "metadata": {},
   "outputs": [],
   "source": [
    "path = 'H:/Documents/PhD/mosquito-swarms/2d-anomaly-detection/results/3d/imgs/'\n",
    "for index, female in enumerate(females):\n",
    "    plot_trial(female, save_path=path+f'female-{index}.png')"
   ]
  },
  {
   "cell_type": "code",
   "execution_count": null,
   "metadata": {},
   "outputs": [],
   "source": [
    "path = 'H:/Documents/PhD/mosquito-swarms/2d-anomaly-detection/results/3d/imgs/'\n",
    "for index, focal_male in enumerate(focal_males):\n",
    "    plot_trial(focal_male, save_path=path+f'focal-male-{index}.png')"
   ]
  },
  {
   "attachments": {},
   "cell_type": "markdown",
   "metadata": {},
   "source": [
    "### Plot 2D Stereo"
   ]
  },
  {
   "cell_type": "code",
   "execution_count": null,
   "metadata": {},
   "outputs": [],
   "source": [
    "# Load 2D stereo\n",
    "path = 'H:/Documents/PhD/mosquito-swarms/2d-anomaly-detection/results/2d stereo model performance/'\n",
    "males = np.load(path + 'tracks_males.npy', allow_pickle=True)\n",
    "couples = np.load(path + 'tracks_couples.npy', allow_pickle=True)\n",
    "females = np.load(path + 'tracks_females.npy', allow_pickle=True)\n",
    "focal_males = np.load(path + 'tracks_focal_males.npy', allow_pickle=True)"
   ]
  },
  {
   "cell_type": "code",
   "execution_count": null,
   "metadata": {},
   "outputs": [],
   "source": [
    "def plot_trial(trial, save_path=None):\n",
    "    plt.figure(dpi=300)\n",
    "    for track in trial:\n",
    "        plt.plot(track[:,0], track[:,1])\n",
    "    plt.xlabel('Y (mm)')\n",
    "    plt.ylabel('Z (mm)')\n",
    "    plt.title('2D Stereo Dataset Trial')\n",
    "    if save_path:\n",
    "        plt.savefig(save_path)\n",
    "        plt.close()\n",
    "    else:\n",
    "        plt.show()"
   ]
  },
  {
   "cell_type": "code",
   "execution_count": null,
   "metadata": {},
   "outputs": [],
   "source": [
    "path = 'H:/Documents/PhD/mosquito-swarms/2d-anomaly-detection/results/2d stereo model performance/imgs/'\n",
    "for index, male in enumerate(males):\n",
    "    plot_trial(male, save_path=path+f'male-{index}.png')"
   ]
  },
  {
   "cell_type": "code",
   "execution_count": null,
   "metadata": {},
   "outputs": [],
   "source": [
    "path = 'H:/Documents/PhD/mosquito-swarms/2d-anomaly-detection/results/2d stereo model performance/imgs/'\n",
    "for index, couple in enumerate(couples):\n",
    "    plot_trial(couple, save_path=path+f'couple-{index}.png')"
   ]
  },
  {
   "cell_type": "code",
   "execution_count": null,
   "metadata": {},
   "outputs": [],
   "source": [
    "path = 'H:/Documents/PhD/mosquito-swarms/2d-anomaly-detection/results/2d stereo model performance/imgs/'\n",
    "for index, female in enumerate(females):\n",
    "    plot_trial(female, save_path=path+f'female-{index}.png')"
   ]
  },
  {
   "cell_type": "code",
   "execution_count": null,
   "metadata": {},
   "outputs": [],
   "source": [
    "path = 'H:/Documents/PhD/mosquito-swarms/2d-anomaly-detection/results/2d stereo model performance/imgs/'\n",
    "for index, focal_male in enumerate(focal_males):\n",
    "    plot_trial(focal_male, save_path=path+f'focal-male-{index}.png')"
   ]
  },
  {
   "attachments": {},
   "cell_type": "markdown",
   "metadata": {},
   "source": [
    "### Plot 2D Single camera"
   ]
  },
  {
   "cell_type": "code",
   "execution_count": null,
   "metadata": {},
   "outputs": [],
   "source": [
    "# Load 2D single camera\n",
    "path = 'H:/Documents/PhD/mosquito-swarms/2d-anomaly-detection/results/2d single model performance/'\n",
    "males = np.load(path + 'tracks_males.npy', allow_pickle=True)\n",
    "couples = np.load(path + 'tracks_couples.npy', allow_pickle=True)\n",
    "females = np.load(path + 'tracks_females.npy', allow_pickle=True)\n",
    "focal_males = np.load(path + 'tracks_focal_males.npy', allow_pickle=True)"
   ]
  },
  {
   "cell_type": "code",
   "execution_count": null,
   "metadata": {},
   "outputs": [],
   "source": [
    "def plot_trial(trial, save_path=None):\n",
    "    plt.figure(dpi=300)\n",
    "    for track in trial:\n",
    "        plt.plot(track[:,0], track[:,1])\n",
    "    plt.xlabel('Y (mm)')\n",
    "    plt.ylabel('Z (mm)')\n",
    "    plt.title('2D Single Camera Model Dataset Trial')\n",
    "    if save_path:\n",
    "        plt.savefig(save_path)\n",
    "        plt.close()\n",
    "    else:\n",
    "        plt.show()"
   ]
  },
  {
   "cell_type": "code",
   "execution_count": null,
   "metadata": {},
   "outputs": [],
   "source": [
    "path = 'H:/Documents/PhD/mosquito-swarms/2d-anomaly-detection/results/2d single model performance/imgs/'\n",
    "for index, male in enumerate(males):\n",
    "    plot_trial(male, save_path=path+f'male-{index}.png')"
   ]
  },
  {
   "cell_type": "code",
   "execution_count": null,
   "metadata": {},
   "outputs": [],
   "source": [
    "path = 'H:/Documents/PhD/mosquito-swarms/2d-anomaly-detection/results/2d single model performance/imgs/'\n",
    "for index, couple in enumerate(couples):\n",
    "    plot_trial(couple, save_path=path+f'couple-{index}.png')"
   ]
  },
  {
   "cell_type": "code",
   "execution_count": null,
   "metadata": {},
   "outputs": [],
   "source": [
    "path = 'H:/Documents/PhD/mosquito-swarms/2d-anomaly-detection/results/2d single model performance/imgs/'\n",
    "for index, female in enumerate(females):\n",
    "    plot_trial(female, save_path=path+f'female-{index}.png')"
   ]
  },
  {
   "cell_type": "code",
   "execution_count": null,
   "metadata": {},
   "outputs": [],
   "source": [
    "path = 'H:/Documents/PhD/mosquito-swarms/2d-anomaly-detection/results/2d single model performance/imgs/'\n",
    "for index, focal_male in enumerate(focal_males):\n",
    "    plot_trial(focal_male, save_path=path+f'focal-male-{index}.png')"
   ]
  },
  {
   "attachments": {},
   "cell_type": "markdown",
   "metadata": {},
   "source": [
    "### Plot 2D Single camera (far away)"
   ]
  },
  {
   "cell_type": "code",
   "execution_count": null,
   "metadata": {},
   "outputs": [],
   "source": [
    "# Load 2D single camera far away\n",
    "path = 'H:/Documents/PhD/mosquito-swarms/2d-anomaly-detection/results/2d single far model performance/'\n",
    "males = np.load(path + 'tracks_males.npy', allow_pickle=True)\n",
    "couples = np.load(path + 'tracks_couples.npy', allow_pickle=True)\n",
    "females = np.load(path + 'tracks_females.npy', allow_pickle=True)\n",
    "focal_males = np.load(path + 'tracks_focal_males.npy', allow_pickle=True)"
   ]
  },
  {
   "cell_type": "code",
   "execution_count": null,
   "metadata": {},
   "outputs": [],
   "source": [
    "def plot_trial(trial, save_path=None):\n",
    "    plt.figure(dpi=300)\n",
    "    for track in trial:\n",
    "        plt.plot(track[:,0], track[:,1])\n",
    "    plt.xlabel('Y (mm)')\n",
    "    plt.ylabel('Z (mm)')\n",
    "    plt.title('2D Single Camera Model (10m) Dataset Trial')\n",
    "    if save_path:\n",
    "        plt.savefig(save_path)\n",
    "        plt.close()\n",
    "    else:\n",
    "        plt.show()"
   ]
  },
  {
   "cell_type": "code",
   "execution_count": null,
   "metadata": {},
   "outputs": [],
   "source": [
    "path = 'H:/Documents/PhD/mosquito-swarms/2d-anomaly-detection/results/2d single far model performance/imgs/'\n",
    "for index, male in enumerate(males):\n",
    "    plot_trial(male, save_path=path+f'male-{index}.png')"
   ]
  },
  {
   "cell_type": "code",
   "execution_count": null,
   "metadata": {},
   "outputs": [],
   "source": [
    "path = 'H:/Documents/PhD/mosquito-swarms/2d-anomaly-detection/results/2d single far model performance/imgs/'\n",
    "for index, couple in enumerate(couples):\n",
    "    plot_trial(couple, save_path=path+f'couple-{index}.png')"
   ]
  },
  {
   "cell_type": "code",
   "execution_count": null,
   "metadata": {},
   "outputs": [],
   "source": [
    "path = 'H:/Documents/PhD/mosquito-swarms/2d-anomaly-detection/results/2d single far model performance/imgs/'\n",
    "for index, female in enumerate(females):\n",
    "    plot_trial(female, save_path=path+f'female-{index}.png')"
   ]
  },
  {
   "cell_type": "code",
   "execution_count": null,
   "metadata": {},
   "outputs": [],
   "source": [
    "path = 'H:/Documents/PhD/mosquito-swarms/2d-anomaly-detection/results/2d single far model performance/imgs/'\n",
    "for index, focal_male in enumerate(focal_males):\n",
    "    plot_trial(focal_male, save_path=path+f'focal-male-{index}.png')"
   ]
  },
  {
   "attachments": {},
   "cell_type": "markdown",
   "metadata": {},
   "source": [
    "### Performance as distance increases"
   ]
  },
  {
   "cell_type": "code",
   "execution_count": null,
   "metadata": {},
   "outputs": [],
   "source": [
    "import pandas as pd\n",
    "\n",
    "df = pd.read_excel('H:/Documents/PhD/mosquito-swarms/2d-anomaly-detection/results/performance at distances.xlsx', sheet_name='used for plotting')\n",
    "df.head()"
   ]
  },
  {
   "cell_type": "code",
   "execution_count": null,
   "metadata": {},
   "outputs": [],
   "source": [
    "dist = [float(col.split('m')[0]) for col in df.columns]\n",
    "balanced_acc = [float(str(col).split(' ')[0]) for col in df.iloc[5]]\n",
    "roc_auc = [float(str(col).split(' ')[0]) for col in df.iloc[6]]\n",
    "pr_auc = [float(str(col).split(' ')[0]) for col in df.iloc[16]]"
   ]
  },
  {
   "cell_type": "code",
   "execution_count": null,
   "metadata": {},
   "outputs": [],
   "source": [
    "import matplotlib.pyplot as plt\n",
    "\n",
    "bal_acc_3d = 0.647\n",
    "roc_auc_3d = 0.694\n",
    "pr_auc_3d = 0.621\n",
    "\n",
    "bal_acc_2d_stereo = 0.647\n",
    "roc_auc_2d_stereo = 0.694\n",
    "pr_auc_2d_stereo = 0.621\n",
    "\n",
    "\n",
    "plt.figure(dpi=300, figsize=(10,10))\n",
    "plt.plot(dist, balanced_acc)\n",
    "plt.plot(dist, roc_auc)\n",
    "plt.plot(dist, pr_auc)\n",
    "plt.plot(dist, [bal_acc_3d for d in dist], 'b--')\n",
    "plt.plot(dist, [roc_auc_3d for d in dist], '--', color='orange')\n",
    "plt.plot(dist, [pr_auc_3d for d in dist], 'g--')\n",
    "plt.title('Performance metrics as distance to swarm increases')\n",
    "plt.ylabel('Score')\n",
    "plt.xlabel('Distance from Swarm centre (m)')\n",
    "plt.legend([\n",
    "    'Balanced Accuracy',\n",
    "    'ROC AUC',\n",
    "    'Average PR AUC',\n",
    "    'Balanced Accuracy (3D)',\n",
    "    'ROC AUC (3D)',\n",
    "    'Average PR AUC (3D)'\n",
    "])\n",
    "plt.show()\n",
    "\n"
   ]
  },
  {
   "cell_type": "code",
   "execution_count": null,
   "metadata": {},
   "outputs": [],
   "source": [
    "import matplotlib.pyplot as plt\n",
    "\n",
    "bal_acc_3d = 0.647\n",
    "roc_auc_3d = 0.694\n",
    "pr_auc_3d = 0.621\n",
    "\n",
    "bal_acc_2d_stereo = 0.639\n",
    "roc_auc_2d_stereo = 0.68\n",
    "pr_auc_2d_stereo = 0.62\n",
    "\n",
    "\n",
    "plt.figure(dpi=300, figsize=(10,8))\n",
    "plt.plot(dist, balanced_acc)\n",
    "plt.plot(dist, roc_auc)\n",
    "plt.plot(dist, pr_auc)\n",
    "plt.plot(dist, [bal_acc_2d_stereo for d in dist], 'b--')\n",
    "plt.plot(dist, [roc_auc_2d_stereo for d in dist], '--', color='orange')\n",
    "plt.plot(dist, [pr_auc_2d_stereo for d in dist], 'g--')\n",
    "plt.title('Performance metrics as distance to swarm increases')\n",
    "plt.ylabel('Score')\n",
    "plt.xlabel('Distance from Swarm centre (m)')\n",
    "plt.legend([\n",
    "    'Balanced Accuracy',\n",
    "    'ROC AUC',\n",
    "    'Average PR AUC',\n",
    "    'Balanced Accuracy (2D Telecentric)',\n",
    "    'ROC AUC (2D Telecentric)',\n",
    "    'Average PR AUC (2D Telecentric)'\n",
    "])\n",
    "plt.show()\n",
    "\n"
   ]
  },
  {
   "attachments": {},
   "cell_type": "markdown",
   "metadata": {},
   "source": [
    "### Confusion Matrix"
   ]
  },
  {
   "cell_type": "code",
   "execution_count": null,
   "metadata": {},
   "outputs": [],
   "source": [
    "import pickle\n",
    "\n",
    "path = 'H:/Documents/PhD/mosquito-swarms/2d-anomaly-detection/results/results-pkl/'\n",
    "filename = '3d.pkl'\n",
    "with open(path+filename, 'rb') as f:\n",
    "    data_3d = pickle.load(f)\n",
    "\n",
    "filename = '2d-stereo.pkl'\n",
    "with open(path+filename, 'rb') as f:\n",
    "    data_2d_stereo = pickle.load(f)\n",
    "\n",
    "filename = '2d-single.pkl'\n",
    "with open(path+filename, 'rb') as f:\n",
    "    data_2d_single = pickle.load(f)\n",
    "\n",
    "filename = '2d-single-far.pkl'\n",
    "with open(path+filename, 'rb') as f:\n",
    "    data_2d_single_far = pickle.load(f)\n",
    "\n",
    "data = [data_3d, data_2d_stereo, data_2d_single, data_2d_single_far]"
   ]
  },
  {
   "cell_type": "code",
   "execution_count": null,
   "metadata": {},
   "outputs": [],
   "source": [
    "from sklearn.metrics import confusion_matrix as con_mat\n",
    "import matplotlib.pyplot as plt\n",
    "import seaborn as sns\n",
    "from itertools import chain\n",
    "\n",
    "def plot(data, title):\n",
    "    plt.rcParams.update({'font.size': 12})\n",
    "    fig, axes = plt.subplots(2, 2, figsize=(10, 8), dpi=400)\n",
    "    for index, all_test_predictions in enumerate(data):\n",
    "        y_test =  list(chain.from_iterable(all_test_predictions['true']))\n",
    "        y_pred =  list(chain.from_iterable(all_test_predictions['preds']))\n",
    "\n",
    "        con = con_mat(y_test, y_pred)\n",
    "        cmap = sns.light_palette(\"#dd7301\", as_cmap=True)\n",
    "        ax1 = sns.heatmap(con, annot=True, cmap=cmap, fmt=\".1f\", ax=axes[index//2, index%2], cbar=True)\n",
    "        ax1.set_title(title[index])\n",
    "        axes[index//2, index%2].set_xlabel(\"Predicted Class\")\n",
    "        axes[index//2, index%2].set_ylabel(\"True Class\")\n",
    "        axes[index//2, index%2].set_xticks([0.5,1.5], ['Non-Male', 'Male'])\n",
    "        axes[index//2, index%2].set_yticks([0.5,1.5], ['Non-Male', 'Male'])\n",
    "    plt.tight_layout()\n",
    "    plt.show()"
   ]
  },
  {
   "cell_type": "code",
   "execution_count": null,
   "metadata": {},
   "outputs": [],
   "source": [
    "title = ['(a) 3D Dataset', '(b) 2D Telecentric Dataset', '(c) 2D Single Camera Model (at 2m)', '(d) 2D Single Camera Model (at 7m)']\n",
    "\n",
    "title = ['(a)','(b)','(c)','(d)']\n",
    "plot(data, title)"
   ]
  },
  {
   "attachments": {},
   "cell_type": "markdown",
   "metadata": {},
   "source": [
    "### ROC Curves"
   ]
  },
  {
   "cell_type": "code",
   "execution_count": null,
   "metadata": {},
   "outputs": [],
   "source": [
    "import pickle\n",
    "\n",
    "path = 'H:/Documents/PhD/mosquito-swarms/2d-anomaly-detection/results/roc-curves-pkl/'\n",
    "filename = '3d.pkl'\n",
    "with open(path+filename, 'rb') as f:\n",
    "    data_3d = pickle.load(f)\n",
    "\n",
    "filename = '2d-stereo.pkl'\n",
    "with open(path+filename, 'rb') as f:\n",
    "    data_2d_stereo = pickle.load(f)\n",
    "\n",
    "filename = '2d-single.pkl'\n",
    "with open(path+filename, 'rb') as f:\n",
    "    data_2d_single = pickle.load(f)\n",
    "\n",
    "filename = '2d-single-far.pkl'\n",
    "with open(path+filename, 'rb') as f:\n",
    "    data_2d_single_far = pickle.load(f)\n",
    "\n",
    "data = [data_3d, data_2d_stereo, data_2d_single, data_2d_single_far]"
   ]
  },
  {
   "cell_type": "code",
   "execution_count": null,
   "metadata": {},
   "outputs": [],
   "source": [
    "import matplotlib.pyplot as plt\n",
    "import numpy as np\n",
    "\n",
    "def plot(data, title):\n",
    "    plt.rcParams.update({'font.size': 12})\n",
    "    fig, axes = plt.subplots(2, 2, figsize=(10, 10), dpi=400)\n",
    "    for index, roc_curve in enumerate(data):\n",
    "        lw = 2\n",
    "        tprs = []\n",
    "        base_fpr = np.linspace(0, 1, 101)\n",
    "\n",
    "        for iindex in range(len(roc_curve['tpr'])):\n",
    "            axes[index//2, index%2].plot(\n",
    "                roc_curve['fpr'][iindex],\n",
    "                roc_curve['tpr'][iindex],\n",
    "                color=\"blue\",\n",
    "                alpha=0.15,\n",
    "                lw=lw,\n",
    "            )\n",
    "            tpr = np.interp(base_fpr, roc_curve['fpr'][iindex], roc_curve['tpr'][iindex])\n",
    "            tpr[0] = 0.0\n",
    "            tprs.append(tpr)\n",
    "\n",
    "        tprs = np.array(tprs)\n",
    "        mean_tprs = tprs.mean(axis=0)\n",
    "        std = tprs.std(axis=0)\n",
    "\n",
    "        tprs_upper = np.minimum(mean_tprs + std, 1)\n",
    "        tprs_lower = mean_tprs - std\n",
    "\n",
    "        axes[index//2, index%2].plot(base_fpr, mean_tprs, 'b')\n",
    "        axes[index//2, index%2].fill_between(base_fpr, tprs_lower, tprs_upper, color='grey', alpha=0.3)\n",
    "\n",
    "        axes[index//2, index%2].plot([0, 1], [0, 1], color=\"black\", lw=lw, linestyle=\"--\")\n",
    "        axes[index//2, index%2].set_xlabel(\"False Positive Rate\")\n",
    "        axes[index//2, index%2].set_ylabel(\"True Positive Rate\")\n",
    "        axes[index//2, index%2].set_xlim((0,1))\n",
    "        axes[index//2, index%2].set_ylim((0,1))\n",
    "        axes[index//2, index%2].set_title(title[index])\n",
    "        #plt.legend(loc=\"lower right\")\n",
    "    plt.tight_layout()\n",
    "    plt.show()"
   ]
  },
  {
   "cell_type": "code",
   "execution_count": null,
   "metadata": {},
   "outputs": [],
   "source": [
    "plot(data, title)"
   ]
  },
  {
   "attachments": {},
   "cell_type": "markdown",
   "metadata": {},
   "source": [
    "### Track examples "
   ]
  },
  {
   "cell_type": "code",
   "execution_count": null,
   "metadata": {},
   "outputs": [],
   "source": [
    "path = 'H:/Documents/PhD/mosquito-swarms/2d-anomaly-detection/results/3d/'\n",
    "males_3d = np.load(path + 'tracks_males.npy', allow_pickle=True)\n",
    "\n",
    "path = 'H:/Documents/PhD/mosquito-swarms/2d-anomaly-detection/results/2d stereo model performance/'\n",
    "males_2d_stereo = np.load(path + 'tracks_males.npy', allow_pickle=True)\n",
    "\n",
    "path = 'H:/Documents/PhD/mosquito-swarms/2d-anomaly-detection/results/2d single model performance/'\n",
    "males_2d_single = np.load(path + 'tracks_males.npy', allow_pickle=True)\n",
    "\n",
    "path = 'H:/Documents/PhD/mosquito-swarms/2d-anomaly-detection/results/2d single far model performance/'\n",
    "males_2d_single_far = np.load(path + 'tracks_males.npy', allow_pickle=True)\n",
    "\n",
    "data = [males_3d, males_2d_stereo, males_2d_single, males_2d_single_far]"
   ]
  },
  {
   "cell_type": "code",
   "execution_count": null,
   "metadata": {},
   "outputs": [],
   "source": [
    "def plot(data, title, trial_id=0):\n",
    "    plt.rcParams.update({'font.size': 10})\n",
    "    fig, axes = plt.subplots(2, 2, figsize=(12, 10), dpi=400)\n",
    "    axes[0,0].axis('off')\n",
    "    ax = fig.add_subplot(2, 2, 1, projection='3d')\n",
    "    for track in data[0][trial_id]:\n",
    "        ax.plot(track[:,0], track[:,1], track[:,2])\n",
    "\n",
    "    ax.set_xlabel('X (mm)')\n",
    "    ax.set_ylabel('Y (mm)')\n",
    "    ax.set_zlabel('Z (mm)')\n",
    "    ax.set_title('(a)')\n",
    "\n",
    "    data = np.array(data)\n",
    "    for index, trial in enumerate(data[[1,2,3]]):\n",
    "        index = index +1\n",
    "        for track in trial[trial_id]:\n",
    "            axes[index//2, index%2].plot(track[:,0], track[:,1])\n",
    "        \n",
    "        axes[index//2, index%2].set_xlabel('Y (mm)')\n",
    "        axes[index//2, index%2].set_ylabel('Z (mm)')\n",
    "        axes[index//2, index%2].set_title(title[index])\n",
    "\n",
    "    plt.tight_layout()\n",
    "    plt.show()"
   ]
  },
  {
   "cell_type": "code",
   "execution_count": null,
   "metadata": {},
   "outputs": [],
   "source": [
    "plot(data, title)"
   ]
  },
  {
   "cell_type": "code",
   "execution_count": null,
   "metadata": {},
   "outputs": [],
   "source": []
  }
 ],
 "metadata": {
  "kernelspec": {
   "display_name": "venv",
   "language": "python",
   "name": "python3"
  },
  "language_info": {
   "codemirror_mode": {
    "name": "ipython",
    "version": 3
   },
   "file_extension": ".py",
   "mimetype": "text/x-python",
   "name": "python",
   "nbconvert_exporter": "python",
   "pygments_lexer": "ipython3",
   "version": "3.8.8"
  },
  "orig_nbformat": 4
 },
 "nbformat": 4,
 "nbformat_minor": 2
}
